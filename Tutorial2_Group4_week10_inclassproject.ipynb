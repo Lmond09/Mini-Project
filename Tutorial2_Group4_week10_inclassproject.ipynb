{
 "cells": [
  {
   "cell_type": "code",
   "execution_count": null,
   "id": "9d3c66bd-ee26-4d2b-abc9-51538b0a0059",
   "metadata": {},
   "outputs": [],
   "source": [
    "from tensorflow import keras\n",
    "import tensorflow as tf\n",
    "from tensorflow.keras import layers\n",
    "import matplotlib.pyplot as plt\n",
    "import numpy as np\n",
    "import os\n",
    "\n",
    "# Define constants\n",
    "img_height, img_width = 64, 64  # Resizing images to a standard size\n",
    "data_dir = \"Dataset\\archive\"  # Update with your actual path\n",
    "class_names = ['AbdomenCT', 'BreastMRI', 'CXR', 'ChestCT', 'Hand', 'HeadCT']  # Adjust based on your dataset classes\n",
    "\n",
    "# Load one image from the dataset\n",
    "image_path = os.path.join(data_dir, class_names[0], os.listdir(os.path.join(data_dir, class_names[0]))[0])\n",
    "image = tf.keras.preprocessing.image.load_img(image_path, target_size=(img_height, img_width), color_mode=\"grayscale\")\n",
    "\n",
    "# Convert image to array\n",
    "image_array = tf.keras.preprocessing.image.img_to_array(image)\n",
    "\n",
    "# Display the image\n",
    "plt.imshow(image_array.squeeze(), cmap='gray')\n",
    "plt.title(class_names[0])\n",
    "plt.axis('off')\n",
    "plt.show()\n"
   ]
  },
  {
   "cell_type": "code",
   "execution_count": null,
   "id": "9b994948-9ae7-48f8-9ce5-d83e82796df1",
   "metadata": {},
   "outputs": [],
   "source": [
    "# Build the CNN model using the Sequential API\n",
    "model = models.Sequential([\n",
    "    layers.Input(shape=(img_height, img_width, 1)),\n",
    "    layers.Conv2D(32, (3, 3), activation='relu', name=\"conv1_block1\"),\n",
    "    layers.Conv2D(32, (3, 3), activation='relu', name=\"conv2_block1\"),\n",
    "    layers.MaxPooling2D(pool_size=(2, 2), name=\"mp_block1\"),\n",
    "    \n",
    "    layers.Conv2D(64, (3, 3), activation='relu', name=\"conv1_block2\"),\n",
    "    layers.Conv2D(64, (3, 3), activation='relu', name=\"conv2_block2\"),\n",
    "    layers.MaxPooling2D(pool_size=(2, 2), name=\"mp_block2\"),\n",
    "    \n",
    "    layers.Conv2D(128, (3, 3), activation='relu', name=\"conv1_block3\"),\n",
    "    layers.GlobalAveragePooling2D(),\n",
    "    \n",
    "    layers.Dropout(0.5),\n",
    "    layers.Dense(num_classes, activation='softmax', name=\"output_layer\")\n",
    "])"
   ]
  },
  {
   "cell_type": "code",
   "execution_count": null,
   "id": "9b2ff206-5a2a-435f-98b1-af23586566ed",
   "metadata": {},
   "outputs": [],
   "source": [
    "# Compile the model\n",
    "model.compile(\n",
    "    optimizer='adam',\n",
    "    loss='categorical_crossentropy',\n",
    "    metrics=['accuracy']\n",
    ")\n",
    "\n",
    "# Print the model summary\n",
    "model.summary()"
   ]
  },
  {
   "cell_type": "code",
   "execution_count": null,
   "id": "87c94f4b-3df2-4be4-b25d-cd36bda26248",
   "metadata": {},
   "outputs": [],
   "source": [
    "# Define callbacks\n",
    "callbacks = [\n",
    "    tf.keras.callbacks.ModelCheckpoint(filepath=\"medical_mnist_cnn_{epoch}.h5\"),\n",
    "    tf.keras.callbacks.EarlyStopping(monitor=\"val_loss\", patience=3)\n",
    "]\n"
   ]
  },
  {
   "cell_type": "code",
   "execution_count": null,
   "id": "3c19cf6e-29f7-462a-be73-b33d66a35462",
   "metadata": {},
   "outputs": [],
   "source": [
    "# Train the model\n",
    "model.fit(\n",
    "    train_generator,\n",
    "    epochs=30,\n",
    "    validation_data=validation_generator,\n",
    "    callbacks=callbacks\n",
    ")"
   ]
  }
 ],
 "metadata": {
  "kernelspec": {
   "display_name": "Python 3 (ipykernel)",
   "language": "python",
   "name": "python3"
  },
  "language_info": {
   "codemirror_mode": {
    "name": "ipython",
    "version": 3
   },
   "file_extension": ".py",
   "mimetype": "text/x-python",
   "name": "python",
   "nbconvert_exporter": "python",
   "pygments_lexer": "ipython3",
   "version": "3.12.4"
  }
 },
 "nbformat": 4,
 "nbformat_minor": 5
}
