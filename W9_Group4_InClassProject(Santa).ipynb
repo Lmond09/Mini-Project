{
 "cells": [
  {
   "cell_type": "code",
   "execution_count": null,
   "id": "56536da4-8df3-4a37-abbc-88eb96cf781f",
   "metadata": {},
   "outputs": [],
   "source": [
    "import os\n",
    "import numpy as np\n",
    "import cv2 as cv\n",
    "base_dir = \"train\"\n",
    "classes = (\"santa\", \"not-a-santa\")\n",
    "imgs = []\n",
    "labels = []\n",
    "for c in classes:\n",
    "    filenames = os.listdir(os.path.join(base_dir, c))\n",
    "    for imgPath in filenames:\n",
    "        img = cv.imread(os.path.join(base_dir, c, imgPath))\n",
    "        imgs.append(img)\n",
    "        if c == \"santa\":\n",
    "            labels.append(1)\n",
    "        else:\n",
    "            labels.append(0)"
   ]
  },
  {
   "cell_type": "code",
   "execution_count": null,
   "id": "e4f4d00f-1e7c-401d-b841-5fd149836e75",
   "metadata": {},
   "outputs": [
    {
     "data": {
      "text/plain": [
       "[array([[[248, 248, 248],\n",
       "         [248, 248, 248],\n",
       "         [249, 249, 249],\n",
       "         ...,\n",
       "         [246, 246, 246],\n",
       "         [249, 249, 249],\n",
       "         [249, 249, 249]],\n",
       " \n",
       "        [[248, 248, 248],\n",
       "         [249, 249, 249],\n",
       "         [249, 249, 249],\n",
       "         ...,\n",
       "         [247, 247, 247],\n",
       "         [249, 249, 249],\n",
       "         [249, 249, 249]],\n",
       " \n",
       "        [[249, 249, 249],\n",
       "         [249, 249, 249],\n",
       "         [249, 249, 249],\n",
       "         ...,\n",
       "         [248, 248, 248],\n",
       "         [250, 250, 250],\n",
       "         [250, 250, 250]],\n",
       " \n",
       "        ...,\n",
       " \n",
       "        [[  2,   0,  46],\n",
       "         [  0,   0,  45],\n",
       "         [  0,   0,  44],\n",
       "         ...,\n",
       "         [  3,   0, 126],\n",
       "         [  2,   0, 120],\n",
       "         [  2,   0, 119]],\n",
       " \n",
       "        [[ 25,  14,  86],\n",
       "         [ 24,  13,  85],\n",
       "         [ 22,  12,  82],\n",
       "         ...,\n",
       "         [  2,   0, 120],\n",
       "         [  4,   1, 116],\n",
       "         [  4,   2, 115]],\n",
       " \n",
       "        [[ 25,   3, 115],\n",
       "         [ 24,   3, 112],\n",
       "         [ 23,   3, 110],\n",
       "         ...,\n",
       "         [  3,   1, 114],\n",
       "         [  6,   3, 113],\n",
       "         [  6,   3, 113]]], dtype=uint8),\n",
       " array([[[101, 131, 142],\n",
       "         [103, 133, 144],\n",
       "         [104, 134, 145],\n",
       "         ...,\n",
       "         [132, 156, 176],\n",
       "         [132, 156, 174],\n",
       "         [132, 156, 174]],\n",
       " \n",
       "        [[103, 133, 144],\n",
       "         [101, 131, 142],\n",
       "         [104, 134, 145],\n",
       "         ...,\n",
       "         [132, 156, 176],\n",
       "         [132, 156, 174],\n",
       "         [131, 155, 173]],\n",
       " \n",
       "        [[ 89, 119, 130],\n",
       "         [ 85, 115, 126],\n",
       "         [ 95, 125, 136],\n",
       "         ...,\n",
       "         [132, 156, 176],\n",
       "         [132, 156, 174],\n",
       "         [131, 155, 173]],\n",
       " \n",
       "        ...,\n",
       " \n",
       "        [[139, 148, 152],\n",
       "         [133, 142, 151],\n",
       "         [ 94, 110, 123],\n",
       "         ...,\n",
       "         [107, 105, 151],\n",
       "         [ 99,  98, 140],\n",
       "         [100,  99, 141]],\n",
       " \n",
       "        [[138, 134, 145],\n",
       "         [137, 139, 150],\n",
       "         [ 92, 105, 121],\n",
       "         ...,\n",
       "         [ 98,  95, 140],\n",
       "         [100,  99, 139],\n",
       "         [104, 103, 143]],\n",
       " \n",
       "        [[159, 150, 163],\n",
       "         [155, 155, 169],\n",
       "         [112, 122, 140],\n",
       "         ...,\n",
       "         [115, 113, 155],\n",
       "         [117, 116, 156],\n",
       "         [121, 120, 159]]], dtype=uint8)]"
      ]
     },
     "execution_count": 8,
     "metadata": {},
     "output_type": "execute_result"
    }
   ],
   "source": [
    "imgs[:2]"
   ]
  },
  {
   "cell_type": "code",
   "execution_count": null,
   "id": "a54a4c1e-7e96-481d-bf34-8e933a9d9f3f",
   "metadata": {},
   "outputs": [
    {
     "data": {
      "text/plain": [
       "[1, 1]"
      ]
     },
     "execution_count": 9,
     "metadata": {},
     "output_type": "execute_result"
    }
   ],
   "source": [
    "labels[:2]"
   ]
  },
  {
   "cell_type": "code",
   "execution_count": null,
   "id": "b1d10408-7d4a-49c0-b771-494789139060",
   "metadata": {},
   "outputs": [
    {
     "data": {
      "text/plain": [
       "array([[[150, 159, 156],\n",
       "        [150, 159, 156],\n",
       "        [149, 158, 155],\n",
       "        ...,\n",
       "        [189, 190, 170],\n",
       "        [189, 189, 171],\n",
       "        [189, 189, 171]],\n",
       "\n",
       "       [[154, 163, 160],\n",
       "        [153, 162, 159],\n",
       "        [153, 162, 159],\n",
       "        ...,\n",
       "        [190, 191, 171],\n",
       "        [192, 190, 172],\n",
       "        [190, 190, 172]],\n",
       "\n",
       "       [[161, 168, 163],\n",
       "        [161, 168, 163],\n",
       "        [160, 167, 162],\n",
       "        ...,\n",
       "        [193, 192, 172],\n",
       "        [195, 191, 173],\n",
       "        [193, 191, 173]],\n",
       "\n",
       "       ...,\n",
       "\n",
       "       [[220, 201, 134],\n",
       "        [219, 200, 133],\n",
       "        [218, 199, 131],\n",
       "        ...,\n",
       "        [ 22,  63, 132],\n",
       "        [ 21,  60, 128],\n",
       "        [ 22,  59, 127]],\n",
       "\n",
       "       [[220, 201, 134],\n",
       "        [219, 200, 133],\n",
       "        [218, 199, 131],\n",
       "        ...,\n",
       "        [ 24,  65, 134],\n",
       "        [ 21,  60, 128],\n",
       "        [ 23,  60, 128]],\n",
       "\n",
       "       [[220, 201, 134],\n",
       "        [219, 200, 133],\n",
       "        [218, 199, 131],\n",
       "        ...,\n",
       "        [ 24,  65, 134],\n",
       "        [ 21,  60, 129],\n",
       "        [ 23,  60, 128]]], dtype=uint8)"
      ]
     },
     "execution_count": 6,
     "metadata": {},
     "output_type": "execute_result"
    }
   ],
   "source": [
    "img"
   ]
  },
  {
   "cell_type": "code",
   "execution_count": null,
   "id": "088d3347-3260-48ea-a3a8-7317db02d07c",
   "metadata": {},
   "outputs": [],
   "source": [
    "#ERROR: Need to reszie the imgs\n",
    "#imgs =np.array(imgs)\n",
    "#imgs.shape"
   ]
  },
  {
   "cell_type": "code",
   "execution_count": null,
   "id": "d2a27e0d-7582-49bb-a5f8-ea7659f24522",
   "metadata": {},
   "outputs": [
    {
     "data": {
      "text/plain": [
       "(614,)"
      ]
     },
     "execution_count": 12,
     "metadata": {},
     "output_type": "execute_result"
    }
   ],
   "source": [
    "labels = np.array(labels)\n",
    "labels.shape"
   ]
  },
  {
   "cell_type": "code",
   "execution_count": null,
   "id": "a5359440-f7bf-4f27-9b96-6f3d35cc26f0",
   "metadata": {},
   "outputs": [],
   "source": [
    "## resizing and undergoes hog"
   ]
  }
 ],
 "metadata": {
  "kernelspec": {
   "display_name": "Python 3 (ipykernel)",
   "language": "python",
   "name": "python3"
  },
  "language_info": {
   "codemirror_mode": {
    "name": "ipython",
    "version": 3
   },
   "file_extension": ".py",
   "mimetype": "text/x-python",
   "name": "python",
   "nbconvert_exporter": "python",
   "pygments_lexer": "ipython3",
   "version": "3.12.4"
  }
 },
 "nbformat": 4,
 "nbformat_minor": 5
}
